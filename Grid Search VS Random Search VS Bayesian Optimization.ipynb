{
 "cells": [
  {
   "cell_type": "code",
   "execution_count": 1,
   "id": "a47aee20",
   "metadata": {},
   "outputs": [],
   "source": [
    "import warnings\n",
    "\n",
    "warnings.filterwarnings(action='ignore')"
   ]
  },
  {
   "cell_type": "markdown",
   "id": "d26fedf1",
   "metadata": {},
   "source": [
    "### Preparing the Data"
   ]
  },
  {
   "cell_type": "code",
   "execution_count": 2,
   "id": "17300cd3",
   "metadata": {},
   "outputs": [],
   "source": [
    "from sklearn import datasets\n",
    "from sklearn.model_selection import train_test_split\n",
    "\n",
    "# load data\n",
    "digits = datasets.load_digits()\n",
    "\n",
    "# flatten the images\n",
    "n_samples = len(digits.images)\n",
    "data = digits.images.reshape((n_samples, -1))\n",
    "\n",
    "# Split data into train and test subsets\n",
    "X_train, X_test, y_train, y_test = train_test_split(data, digits.target, test_size=0.25, shuffle=False)"
   ]
  },
  {
   "cell_type": "markdown",
   "id": "f8c50a8c",
   "metadata": {},
   "source": [
    "### Defining the Search Space"
   ]
  },
  {
   "cell_type": "code",
   "execution_count": 3,
   "id": "ea96b935",
   "metadata": {},
   "outputs": [],
   "source": [
    "from sklearn.ensemble import RandomForestClassifier\n",
    "\n",
    "# random forest classifier object\n",
    "rfc = RandomForestClassifier(random_state=42)\n",
    "\n",
    "# define sample space\n",
    "param_grid = {\n",
    "    'n_estimators': [100,150,200],\n",
    "    'criterion': ['gini', 'entropy'],\n",
    "    'min_samples_split': [2, 3, 4],\n",
    "    'min_samples_leaf': [1, 2, 3, 4, 5],\n",
    "    'max_features': ['auto', 'sqrt', 'log2'],\n",
    "    'max_depth': [5, 6, 7]\n",
    "    }"
   ]
  },
  {
   "cell_type": "markdown",
   "id": "10d41d1b",
   "metadata": {},
   "source": [
    "### Grid Search"
   ]
  },
  {
   "cell_type": "code",
   "execution_count": 4,
   "id": "86f4bc2f",
   "metadata": {},
   "outputs": [
    {
     "name": "stdout",
     "output_type": "stream",
     "text": [
      "Fitting 5 folds for each of 810 candidates, totalling 4050 fits\n"
     ]
    }
   ],
   "source": [
    "import time\n",
    "from sklearn.model_selection import GridSearchCV\n",
    "import pandas as pd\n",
    "\n",
    "# create grid search object\n",
    "gs = GridSearchCV(estimator=rfc,\n",
    "                  param_grid=param_grid,\n",
    "                  scoring='f1_micro',\n",
    "                  cv=5,\n",
    "                  n_jobs=-1,\n",
    "                  verbose=2)\n",
    "\n",
    "# perform hyperparameter tuning (while timing the process)\n",
    "time_start = time.time()\n",
    "gs.fit(X_train, y_train)\n",
    "time_grid = time.time() - time_start\n",
    "\n",
    "# store result in a data frame \n",
    "values_grid = [810, gs.best_index_+1, gs.best_score_, time_grid]\n",
    "columns = ['Number of iterations', 'Iteration Number of Optimal Hyperparamters', 'Score', 'Time Elapsed (s)']\n",
    "results_grid = pd.DataFrame([values_grid], columns = columns)"
   ]
  },
  {
   "cell_type": "markdown",
   "id": "1190317e",
   "metadata": {},
   "source": [
    "### Random Search"
   ]
  },
  {
   "cell_type": "code",
   "execution_count": 16,
   "id": "07f5d313",
   "metadata": {},
   "outputs": [
    {
     "name": "stdout",
     "output_type": "stream",
     "text": [
      "Fitting 5 folds for each of 100 candidates, totalling 500 fits\n"
     ]
    }
   ],
   "source": [
    "from sklearn.model_selection import RandomizedSearchCV\n",
    "\n",
    "# create a random search object\n",
    "rs = RandomizedSearchCV(estimator=rfc,\n",
    "                  param_distributions=param_grid,\n",
    "                  scoring='f1_micro',\n",
    "                  cv=5,\n",
    "                  n_jobs=-1,\n",
    "                  verbose=2,\n",
    "                  random_state=43,\n",
    "                  n_iter=100)\n",
    "\n",
    "# perform hyperparamter tuning (while timing the process)\n",
    "time_start = time.time()\n",
    "rs.fit(X_train, y_train)\n",
    "time_random = time.time() - time_start\n",
    "\n",
    "# store result in a data frame \n",
    "values_grid = [[100, rs.best_index_+1, rs.best_score_, time_random]]\n",
    "results_random = pd.DataFrame(values_grid, columns = columns)\n"
   ]
  },
  {
   "cell_type": "markdown",
   "id": "f5fc2957",
   "metadata": {},
   "source": [
    "### Bayesian Search"
   ]
  },
  {
   "cell_type": "code",
   "execution_count": 6,
   "id": "c8c869dd",
   "metadata": {},
   "outputs": [
    {
     "name": "stderr",
     "output_type": "stream",
     "text": [
      "\u001b[32m[I 2022-05-03 22:56:50,803]\u001b[0m A new study created in memory with name: no-name-41077707-1195-463e-83ae-c061196fb313\u001b[0m\n",
      "\u001b[32m[I 2022-05-03 22:56:51,096]\u001b[0m Trial 0 finished with value: 0.9109238606636376 and parameters: {'n_estimators': 100, 'criterion': 'entropy', 'min_samples_split': 3, 'min_samples_leaf': 2, 'max_depth': 6, 'max_features': 'log2'}. Best is trial 0 with value: 0.9109238606636376.\u001b[0m\n",
      "\u001b[32m[I 2022-05-03 22:56:51,715]\u001b[0m Trial 1 finished with value: 0.909436871816054 and parameters: {'n_estimators': 200, 'criterion': 'entropy', 'min_samples_split': 3, 'min_samples_leaf': 1, 'max_depth': 5, 'max_features': 'log2'}. Best is trial 0 with value: 0.9109238606636376.\u001b[0m\n",
      "\u001b[32m[I 2022-05-03 22:56:52,082]\u001b[0m Trial 2 finished with value: 0.9168718160539722 and parameters: {'n_estimators': 100, 'criterion': 'entropy', 'min_samples_split': 4, 'min_samples_leaf': 3, 'max_depth': 6, 'max_features': 'auto'}. Best is trial 2 with value: 0.9168718160539722.\u001b[0m\n",
      "\u001b[32m[I 2022-05-03 22:56:52,594]\u001b[0m Trial 3 finished with value: 0.9198457937491394 and parameters: {'n_estimators': 150, 'criterion': 'entropy', 'min_samples_split': 4, 'min_samples_leaf': 3, 'max_depth': 6, 'max_features': 'sqrt'}. Best is trial 3 with value: 0.9198457937491394.\u001b[0m\n",
      "\u001b[32m[I 2022-05-03 22:56:53,152]\u001b[0m Trial 4 finished with value: 0.906476662536142 and parameters: {'n_estimators': 200, 'criterion': 'entropy', 'min_samples_split': 3, 'min_samples_leaf': 2, 'max_depth': 5, 'max_features': 'log2'}. Best is trial 3 with value: 0.9198457937491394.\u001b[0m\n",
      "\u001b[32m[I 2022-05-03 22:56:53,755]\u001b[0m Trial 5 finished with value: 0.9094451328652072 and parameters: {'n_estimators': 200, 'criterion': 'entropy', 'min_samples_split': 2, 'min_samples_leaf': 2, 'max_depth': 5, 'max_features': 'auto'}. Best is trial 3 with value: 0.9198457937491394.\u001b[0m\n",
      "\u001b[32m[I 2022-05-03 22:56:54,043]\u001b[0m Trial 6 finished with value: 0.9034971774748726 and parameters: {'n_estimators': 100, 'criterion': 'entropy', 'min_samples_split': 3, 'min_samples_leaf': 2, 'max_depth': 5, 'max_features': 'log2'}. Best is trial 3 with value: 0.9198457937491394.\u001b[0m\n",
      "\u001b[32m[I 2022-05-03 22:56:54,627]\u001b[0m Trial 7 finished with value: 0.9109183532975355 and parameters: {'n_estimators': 200, 'criterion': 'entropy', 'min_samples_split': 3, 'min_samples_leaf': 4, 'max_depth': 5, 'max_features': 'sqrt'}. Best is trial 3 with value: 0.9198457937491394.\u001b[0m\n",
      "\u001b[32m[I 2022-05-03 22:56:55,294]\u001b[0m Trial 8 finished with value: 0.9213245215475698 and parameters: {'n_estimators': 200, 'criterion': 'entropy', 'min_samples_split': 3, 'min_samples_leaf': 5, 'max_depth': 7, 'max_features': 'log2'}. Best is trial 8 with value: 0.9213245215475698.\u001b[0m\n",
      "\u001b[32m[I 2022-05-03 22:56:55,820]\u001b[0m Trial 9 finished with value: 0.913154343935013 and parameters: {'n_estimators': 150, 'criterion': 'entropy', 'min_samples_split': 4, 'min_samples_leaf': 2, 'max_depth': 6, 'max_features': 'log2'}. Best is trial 8 with value: 0.9213245215475698.\u001b[0m\n",
      "\u001b[32m[I 2022-05-03 22:56:56,452]\u001b[0m Trial 10 finished with value: 0.9183477901693516 and parameters: {'n_estimators': 150, 'criterion': 'gini', 'min_samples_split': 2, 'min_samples_leaf': 5, 'max_depth': 7, 'max_features': 'auto'}. Best is trial 8 with value: 0.9213245215475698.\u001b[0m\n",
      "\u001b[32m[I 2022-05-03 22:56:57,054]\u001b[0m Trial 11 finished with value: 0.9183477901693516 and parameters: {'n_estimators': 150, 'criterion': 'gini', 'min_samples_split': 4, 'min_samples_leaf': 5, 'max_depth': 7, 'max_features': 'sqrt'}. Best is trial 8 with value: 0.9213245215475698.\u001b[0m\n",
      "\u001b[32m[I 2022-05-03 22:56:57,864]\u001b[0m Trial 12 finished with value: 0.9190940382761944 and parameters: {'n_estimators': 150, 'criterion': 'gini', 'min_samples_split': 4, 'min_samples_leaf': 4, 'max_depth': 7, 'max_features': 'sqrt'}. Best is trial 8 with value: 0.9213245215475698.\u001b[0m\n",
      "\u001b[32m[I 2022-05-03 22:56:58,756]\u001b[0m Trial 13 finished with value: 0.9272669695718022 and parameters: {'n_estimators': 150, 'criterion': 'entropy', 'min_samples_split': 2, 'min_samples_leaf': 4, 'max_depth': 7, 'max_features': 'sqrt'}. Best is trial 13 with value: 0.9272669695718022.\u001b[0m\n",
      "\u001b[32m[I 2022-05-03 22:56:59,896]\u001b[0m Trial 14 finished with value: 0.927258708522649 and parameters: {'n_estimators': 200, 'criterion': 'entropy', 'min_samples_split': 2, 'min_samples_leaf': 4, 'max_depth': 7, 'max_features': 'sqrt'}. Best is trial 13 with value: 0.9272669695718022.\u001b[0m\n",
      "\u001b[32m[I 2022-05-03 22:57:00,624]\u001b[0m Trial 15 finished with value: 0.9190940382761944 and parameters: {'n_estimators': 150, 'criterion': 'gini', 'min_samples_split': 2, 'min_samples_leaf': 4, 'max_depth': 7, 'max_features': 'sqrt'}. Best is trial 13 with value: 0.9272669695718022.\u001b[0m\n",
      "\u001b[32m[I 2022-05-03 22:57:01,654]\u001b[0m Trial 16 finished with value: 0.927258708522649 and parameters: {'n_estimators': 200, 'criterion': 'entropy', 'min_samples_split': 2, 'min_samples_leaf': 4, 'max_depth': 7, 'max_features': 'sqrt'}. Best is trial 13 with value: 0.9272669695718022.\u001b[0m\n",
      "\u001b[32m[I 2022-05-03 22:57:02,220]\u001b[0m Trial 17 finished with value: 0.9250254715682225 and parameters: {'n_estimators': 100, 'criterion': 'entropy', 'min_samples_split': 2, 'min_samples_leaf': 3, 'max_depth': 7, 'max_features': 'sqrt'}. Best is trial 13 with value: 0.9272669695718022.\u001b[0m\n",
      "\u001b[32m[I 2022-05-03 22:57:02,952]\u001b[0m Trial 18 finished with value: 0.9146275643673413 and parameters: {'n_estimators': 150, 'criterion': 'gini', 'min_samples_split': 2, 'min_samples_leaf': 4, 'max_depth': 6, 'max_features': 'sqrt'}. Best is trial 13 with value: 0.9272669695718022.\u001b[0m\n",
      "\u001b[32m[I 2022-05-03 22:57:03,700]\u001b[0m Trial 19 finished with value: 0.9228115103951534 and parameters: {'n_estimators': 150, 'criterion': 'entropy', 'min_samples_split': 2, 'min_samples_leaf': 3, 'max_depth': 7, 'max_features': 'sqrt'}. Best is trial 13 with value: 0.9272669695718022.\u001b[0m\n",
      "\u001b[32m[I 2022-05-03 22:57:04,641]\u001b[0m Trial 20 finished with value: 0.9265234751480105 and parameters: {'n_estimators': 200, 'criterion': 'entropy', 'min_samples_split': 2, 'min_samples_leaf': 5, 'max_depth': 7, 'max_features': 'sqrt'}. Best is trial 13 with value: 0.9272669695718022.\u001b[0m\n",
      "\u001b[32m[I 2022-05-03 22:57:05,573]\u001b[0m Trial 21 finished with value: 0.927258708522649 and parameters: {'n_estimators': 200, 'criterion': 'entropy', 'min_samples_split': 2, 'min_samples_leaf': 4, 'max_depth': 7, 'max_features': 'sqrt'}. Best is trial 13 with value: 0.9272669695718022.\u001b[0m\n",
      "\u001b[32m[I 2022-05-03 22:57:06,670]\u001b[0m Trial 22 finished with value: 0.927258708522649 and parameters: {'n_estimators': 200, 'criterion': 'entropy', 'min_samples_split': 2, 'min_samples_leaf': 4, 'max_depth': 7, 'max_features': 'sqrt'}. Best is trial 13 with value: 0.9272669695718022.\u001b[0m\n",
      "\u001b[32m[I 2022-05-03 22:57:07,626]\u001b[0m Trial 23 finished with value: 0.922079030703566 and parameters: {'n_estimators': 200, 'criterion': 'entropy', 'min_samples_split': 2, 'min_samples_leaf': 4, 'max_depth': 6, 'max_features': 'sqrt'}. Best is trial 13 with value: 0.9272669695718022.\u001b[0m\n",
      "\u001b[32m[I 2022-05-03 22:57:08,502]\u001b[0m Trial 24 finished with value: 0.9265152140988573 and parameters: {'n_estimators': 200, 'criterion': 'entropy', 'min_samples_split': 2, 'min_samples_leaf': 3, 'max_depth': 7, 'max_features': 'sqrt'}. Best is trial 13 with value: 0.9272669695718022.\u001b[0m\n",
      "\u001b[32m[I 2022-05-03 22:57:09,157]\u001b[0m Trial 25 finished with value: 0.9280104639955941 and parameters: {'n_estimators': 150, 'criterion': 'entropy', 'min_samples_split': 2, 'min_samples_leaf': 5, 'max_depth': 7, 'max_features': 'auto'}. Best is trial 25 with value: 0.9280104639955941.\u001b[0m\n",
      "\u001b[32m[I 2022-05-03 22:57:09,812]\u001b[0m Trial 26 finished with value: 0.9183450364863004 and parameters: {'n_estimators': 150, 'criterion': 'entropy', 'min_samples_split': 3, 'min_samples_leaf': 5, 'max_depth': 6, 'max_features': 'auto'}. Best is trial 25 with value: 0.9280104639955941.\u001b[0m\n",
      "\u001b[32m[I 2022-05-03 22:57:10,288]\u001b[0m Trial 27 finished with value: 0.9183477901693516 and parameters: {'n_estimators': 150, 'criterion': 'gini', 'min_samples_split': 2, 'min_samples_leaf': 5, 'max_depth': 7, 'max_features': 'auto'}. Best is trial 25 with value: 0.9280104639955941.\u001b[0m\n",
      "\u001b[32m[I 2022-05-03 22:57:10,651]\u001b[0m Trial 28 finished with value: 0.9235439900867408 and parameters: {'n_estimators': 100, 'criterion': 'entropy', 'min_samples_split': 2, 'min_samples_leaf': 5, 'max_depth': 7, 'max_features': 'auto'}. Best is trial 25 with value: 0.9280104639955941.\u001b[0m\n"
     ]
    },
    {
     "name": "stderr",
     "output_type": "stream",
     "text": [
      "\u001b[32m[I 2022-05-03 22:57:11,019]\u001b[0m Trial 29 finished with value: 0.9161145532149249 and parameters: {'n_estimators': 100, 'criterion': 'entropy', 'min_samples_split': 3, 'min_samples_leaf': 1, 'max_depth': 6, 'max_features': 'auto'}. Best is trial 25 with value: 0.9280104639955941.\u001b[0m\n",
      "\u001b[32m[I 2022-05-03 22:57:11,614]\u001b[0m Trial 30 finished with value: 0.9272669695718022 and parameters: {'n_estimators': 150, 'criterion': 'entropy', 'min_samples_split': 2, 'min_samples_leaf': 4, 'max_depth': 7, 'max_features': 'auto'}. Best is trial 25 with value: 0.9280104639955941.\u001b[0m\n",
      "\u001b[32m[I 2022-05-03 22:57:12,143]\u001b[0m Trial 31 finished with value: 0.9272669695718022 and parameters: {'n_estimators': 150, 'criterion': 'entropy', 'min_samples_split': 2, 'min_samples_leaf': 4, 'max_depth': 7, 'max_features': 'auto'}. Best is trial 25 with value: 0.9280104639955941.\u001b[0m\n",
      "\u001b[32m[I 2022-05-03 22:57:12,695]\u001b[0m Trial 32 finished with value: 0.9228115103951534 and parameters: {'n_estimators': 150, 'criterion': 'entropy', 'min_samples_split': 2, 'min_samples_leaf': 3, 'max_depth': 7, 'max_features': 'auto'}. Best is trial 25 with value: 0.9280104639955941.\u001b[0m\n",
      "\u001b[32m[I 2022-05-03 22:57:13,303]\u001b[0m Trial 33 finished with value: 0.9272669695718022 and parameters: {'n_estimators': 150, 'criterion': 'entropy', 'min_samples_split': 2, 'min_samples_leaf': 4, 'max_depth': 7, 'max_features': 'auto'}. Best is trial 25 with value: 0.9280104639955941.\u001b[0m\n",
      "\u001b[32m[I 2022-05-03 22:57:13,834]\u001b[0m Trial 34 finished with value: 0.9280104639955941 and parameters: {'n_estimators': 150, 'criterion': 'entropy', 'min_samples_split': 2, 'min_samples_leaf': 5, 'max_depth': 7, 'max_features': 'auto'}. Best is trial 25 with value: 0.9280104639955941.\u001b[0m\n",
      "\u001b[32m[I 2022-05-03 22:57:14,360]\u001b[0m Trial 35 finished with value: 0.9183450364863004 and parameters: {'n_estimators': 150, 'criterion': 'entropy', 'min_samples_split': 3, 'min_samples_leaf': 5, 'max_depth': 6, 'max_features': 'auto'}. Best is trial 25 with value: 0.9280104639955941.\u001b[0m\n",
      "\u001b[32m[I 2022-05-03 22:57:14,930]\u001b[0m Trial 36 finished with value: 0.9280104639955941 and parameters: {'n_estimators': 150, 'criterion': 'entropy', 'min_samples_split': 2, 'min_samples_leaf': 5, 'max_depth': 7, 'max_features': 'auto'}. Best is trial 25 with value: 0.9280104639955941.\u001b[0m\n",
      "\u001b[32m[I 2022-05-03 22:57:15,472]\u001b[0m Trial 37 finished with value: 0.9280104639955941 and parameters: {'n_estimators': 150, 'criterion': 'entropy', 'min_samples_split': 3, 'min_samples_leaf': 5, 'max_depth': 7, 'max_features': 'auto'}. Best is trial 25 with value: 0.9280104639955941.\u001b[0m\n",
      "\u001b[32m[I 2022-05-03 22:57:16,025]\u001b[0m Trial 38 finished with value: 0.9183450364863004 and parameters: {'n_estimators': 150, 'criterion': 'entropy', 'min_samples_split': 3, 'min_samples_leaf': 5, 'max_depth': 6, 'max_features': 'auto'}. Best is trial 25 with value: 0.9280104639955941.\u001b[0m\n",
      "\u001b[32m[I 2022-05-03 22:57:16,429]\u001b[0m Trial 39 finished with value: 0.9235439900867408 and parameters: {'n_estimators': 100, 'criterion': 'entropy', 'min_samples_split': 3, 'min_samples_leaf': 5, 'max_depth': 7, 'max_features': 'auto'}. Best is trial 25 with value: 0.9280104639955941.\u001b[0m\n",
      "\u001b[32m[I 2022-05-03 22:57:16,902]\u001b[0m Trial 40 finished with value: 0.9124080958281702 and parameters: {'n_estimators': 100, 'criterion': 'entropy', 'min_samples_split': 4, 'min_samples_leaf': 5, 'max_depth': 6, 'max_features': 'auto'}. Best is trial 25 with value: 0.9280104639955941.\u001b[0m\n",
      "\u001b[32m[I 2022-05-03 22:57:17,609]\u001b[0m Trial 41 finished with value: 0.9280104639955941 and parameters: {'n_estimators': 150, 'criterion': 'entropy', 'min_samples_split': 2, 'min_samples_leaf': 5, 'max_depth': 7, 'max_features': 'auto'}. Best is trial 25 with value: 0.9280104639955941.\u001b[0m\n",
      "\u001b[32m[I 2022-05-03 22:57:18,341]\u001b[0m Trial 42 finished with value: 0.9280104639955941 and parameters: {'n_estimators': 150, 'criterion': 'entropy', 'min_samples_split': 3, 'min_samples_leaf': 5, 'max_depth': 7, 'max_features': 'auto'}. Best is trial 25 with value: 0.9280104639955941.\u001b[0m\n",
      "\u001b[32m[I 2022-05-03 22:57:18,925]\u001b[0m Trial 43 finished with value: 0.9280104639955941 and parameters: {'n_estimators': 150, 'criterion': 'entropy', 'min_samples_split': 3, 'min_samples_leaf': 5, 'max_depth': 7, 'max_features': 'auto'}. Best is trial 25 with value: 0.9280104639955941.\u001b[0m\n",
      "\u001b[32m[I 2022-05-03 22:57:19,464]\u001b[0m Trial 44 finished with value: 0.9161310753132315 and parameters: {'n_estimators': 150, 'criterion': 'entropy', 'min_samples_split': 3, 'min_samples_leaf': 5, 'max_depth': 7, 'max_features': 'log2'}. Best is trial 25 with value: 0.9280104639955941.\u001b[0m\n",
      "\u001b[32m[I 2022-05-03 22:57:20,009]\u001b[0m Trial 45 finished with value: 0.9042324108495112 and parameters: {'n_estimators': 150, 'criterion': 'entropy', 'min_samples_split': 3, 'min_samples_leaf': 5, 'max_depth': 5, 'max_features': 'auto'}. Best is trial 25 with value: 0.9280104639955941.\u001b[0m\n",
      "\u001b[32m[I 2022-05-03 22:57:20,634]\u001b[0m Trial 46 finished with value: 0.9183477901693516 and parameters: {'n_estimators': 150, 'criterion': 'gini', 'min_samples_split': 3, 'min_samples_leaf': 5, 'max_depth': 7, 'max_features': 'auto'}. Best is trial 25 with value: 0.9280104639955941.\u001b[0m\n",
      "\u001b[32m[I 2022-05-03 22:57:21,417]\u001b[0m Trial 47 finished with value: 0.9354261324521549 and parameters: {'n_estimators': 150, 'criterion': 'entropy', 'min_samples_split': 3, 'min_samples_leaf': 1, 'max_depth': 7, 'max_features': 'auto'}. Best is trial 47 with value: 0.9354261324521549.\u001b[0m\n",
      "\u001b[32m[I 2022-05-03 22:57:22,132]\u001b[0m Trial 48 finished with value: 0.928007710312543 and parameters: {'n_estimators': 150, 'criterion': 'entropy', 'min_samples_split': 4, 'min_samples_leaf': 1, 'max_depth': 7, 'max_features': 'log2'}. Best is trial 47 with value: 0.9354261324521549.\u001b[0m\n",
      "\u001b[32m[I 2022-05-03 22:57:22,739]\u001b[0m Trial 49 finished with value: 0.9205727660746247 and parameters: {'n_estimators': 150, 'criterion': 'gini', 'min_samples_split': 3, 'min_samples_leaf': 2, 'max_depth': 7, 'max_features': 'auto'}. Best is trial 47 with value: 0.9354261324521549.\u001b[0m\n",
      "\u001b[32m[I 2022-05-03 22:57:23,780]\u001b[0m Trial 50 finished with value: 0.9354261324521549 and parameters: {'n_estimators': 150, 'criterion': 'entropy', 'min_samples_split': 3, 'min_samples_leaf': 1, 'max_depth': 7, 'max_features': 'auto'}. Best is trial 47 with value: 0.9354261324521549.\u001b[0m\n",
      "\u001b[32m[I 2022-05-03 22:57:24,642]\u001b[0m Trial 51 finished with value: 0.9354261324521549 and parameters: {'n_estimators': 150, 'criterion': 'entropy', 'min_samples_split': 3, 'min_samples_leaf': 1, 'max_depth': 7, 'max_features': 'auto'}. Best is trial 47 with value: 0.9354261324521549.\u001b[0m\n",
      "\u001b[32m[I 2022-05-03 22:57:25,474]\u001b[0m Trial 52 finished with value: 0.9354261324521549 and parameters: {'n_estimators': 150, 'criterion': 'entropy', 'min_samples_split': 3, 'min_samples_leaf': 1, 'max_depth': 7, 'max_features': 'auto'}. Best is trial 47 with value: 0.9354261324521549.\u001b[0m\n",
      "\u001b[32m[I 2022-05-03 22:57:26,189]\u001b[0m Trial 53 finished with value: 0.9354261324521549 and parameters: {'n_estimators': 150, 'criterion': 'entropy', 'min_samples_split': 3, 'min_samples_leaf': 1, 'max_depth': 7, 'max_features': 'auto'}. Best is trial 47 with value: 0.9354261324521549.\u001b[0m\n",
      "\u001b[32m[I 2022-05-03 22:57:26,866]\u001b[0m Trial 54 finished with value: 0.9354261324521549 and parameters: {'n_estimators': 150, 'criterion': 'entropy', 'min_samples_split': 3, 'min_samples_leaf': 1, 'max_depth': 7, 'max_features': 'auto'}. Best is trial 47 with value: 0.9354261324521549.\u001b[0m\n",
      "\u001b[32m[I 2022-05-03 22:57:27,638]\u001b[0m Trial 55 finished with value: 0.9354261324521549 and parameters: {'n_estimators': 150, 'criterion': 'entropy', 'min_samples_split': 3, 'min_samples_leaf': 1, 'max_depth': 7, 'max_features': 'auto'}. Best is trial 47 with value: 0.9354261324521549.\u001b[0m\n",
      "\u001b[32m[I 2022-05-03 22:57:28,350]\u001b[0m Trial 56 finished with value: 0.9220597549222085 and parameters: {'n_estimators': 150, 'criterion': 'entropy', 'min_samples_split': 3, 'min_samples_leaf': 1, 'max_depth': 7, 'max_features': 'log2'}. Best is trial 47 with value: 0.9354261324521549.\u001b[0m\n",
      "\u001b[32m[I 2022-05-03 22:57:28,968]\u001b[0m Trial 57 finished with value: 0.9354261324521549 and parameters: {'n_estimators': 150, 'criterion': 'entropy', 'min_samples_split': 3, 'min_samples_leaf': 1, 'max_depth': 7, 'max_features': 'auto'}. Best is trial 47 with value: 0.9354261324521549.\u001b[0m\n"
     ]
    },
    {
     "name": "stderr",
     "output_type": "stream",
     "text": [
      "\u001b[32m[I 2022-05-03 22:57:29,446]\u001b[0m Trial 58 finished with value: 0.9294864381109734 and parameters: {'n_estimators': 150, 'criterion': 'gini', 'min_samples_split': 3, 'min_samples_leaf': 1, 'max_depth': 7, 'max_features': 'auto'}. Best is trial 47 with value: 0.9354261324521549.\u001b[0m\n",
      "\u001b[32m[I 2022-05-03 22:57:30,009]\u001b[0m Trial 59 finished with value: 0.9354261324521549 and parameters: {'n_estimators': 150, 'criterion': 'entropy', 'min_samples_split': 3, 'min_samples_leaf': 1, 'max_depth': 7, 'max_features': 'auto'}. Best is trial 47 with value: 0.9354261324521549.\u001b[0m\n",
      "\u001b[32m[I 2022-05-03 22:57:30,503]\u001b[0m Trial 60 finished with value: 0.9072118959107808 and parameters: {'n_estimators': 150, 'criterion': 'entropy', 'min_samples_split': 3, 'min_samples_leaf': 2, 'max_depth': 5, 'max_features': 'auto'}. Best is trial 47 with value: 0.9354261324521549.\u001b[0m\n",
      "\u001b[32m[I 2022-05-03 22:57:31,146]\u001b[0m Trial 61 finished with value: 0.9354261324521549 and parameters: {'n_estimators': 150, 'criterion': 'entropy', 'min_samples_split': 3, 'min_samples_leaf': 1, 'max_depth': 7, 'max_features': 'auto'}. Best is trial 47 with value: 0.9354261324521549.\u001b[0m\n",
      "\u001b[32m[I 2022-05-03 22:57:31,926]\u001b[0m Trial 62 finished with value: 0.9354261324521549 and parameters: {'n_estimators': 150, 'criterion': 'entropy', 'min_samples_split': 3, 'min_samples_leaf': 1, 'max_depth': 7, 'max_features': 'auto'}. Best is trial 47 with value: 0.9354261324521549.\u001b[0m\n",
      "\u001b[32m[I 2022-05-03 22:57:32,714]\u001b[0m Trial 63 finished with value: 0.9354261324521549 and parameters: {'n_estimators': 150, 'criterion': 'entropy', 'min_samples_split': 3, 'min_samples_leaf': 1, 'max_depth': 7, 'max_features': 'auto'}. Best is trial 47 with value: 0.9354261324521549.\u001b[0m\n",
      "\u001b[32m[I 2022-05-03 22:57:33,929]\u001b[0m Trial 64 finished with value: 0.9354261324521549 and parameters: {'n_estimators': 150, 'criterion': 'entropy', 'min_samples_split': 3, 'min_samples_leaf': 1, 'max_depth': 7, 'max_features': 'auto'}. Best is trial 47 with value: 0.9354261324521549.\u001b[0m\n",
      "\u001b[32m[I 2022-05-03 22:57:34,675]\u001b[0m Trial 65 finished with value: 0.9272614622057 and parameters: {'n_estimators': 150, 'criterion': 'entropy', 'min_samples_split': 3, 'min_samples_leaf': 2, 'max_depth': 7, 'max_features': 'auto'}. Best is trial 47 with value: 0.9354261324521549.\u001b[0m\n",
      "\u001b[32m[I 2022-05-03 22:57:35,386]\u001b[0m Trial 66 finished with value: 0.9220597549222085 and parameters: {'n_estimators': 150, 'criterion': 'entropy', 'min_samples_split': 3, 'min_samples_leaf': 1, 'max_depth': 7, 'max_features': 'log2'}. Best is trial 47 with value: 0.9354261324521549.\u001b[0m\n",
      "\u001b[32m[I 2022-05-03 22:57:36,084]\u001b[0m Trial 67 finished with value: 0.9272614622057 and parameters: {'n_estimators': 150, 'criterion': 'entropy', 'min_samples_split': 3, 'min_samples_leaf': 2, 'max_depth': 7, 'max_features': 'auto'}. Best is trial 47 with value: 0.9354261324521549.\u001b[0m\n",
      "\u001b[32m[I 2022-05-03 22:57:36,734]\u001b[0m Trial 68 finished with value: 0.9354261324521549 and parameters: {'n_estimators': 150, 'criterion': 'entropy', 'min_samples_split': 3, 'min_samples_leaf': 1, 'max_depth': 7, 'max_features': 'auto'}. Best is trial 47 with value: 0.9354261324521549.\u001b[0m\n",
      "\u001b[32m[I 2022-05-03 22:57:37,279]\u001b[0m Trial 69 finished with value: 0.9294864381109734 and parameters: {'n_estimators': 150, 'criterion': 'gini', 'min_samples_split': 3, 'min_samples_leaf': 1, 'max_depth': 7, 'max_features': 'auto'}. Best is trial 47 with value: 0.9354261324521549.\u001b[0m\n",
      "\u001b[32m[I 2022-05-03 22:57:37,916]\u001b[0m Trial 70 finished with value: 0.9354261324521549 and parameters: {'n_estimators': 150, 'criterion': 'entropy', 'min_samples_split': 3, 'min_samples_leaf': 1, 'max_depth': 7, 'max_features': 'auto'}. Best is trial 47 with value: 0.9354261324521549.\u001b[0m\n",
      "\u001b[32m[I 2022-05-03 22:57:38,510]\u001b[0m Trial 71 finished with value: 0.9354261324521549 and parameters: {'n_estimators': 150, 'criterion': 'entropy', 'min_samples_split': 3, 'min_samples_leaf': 1, 'max_depth': 7, 'max_features': 'auto'}. Best is trial 47 with value: 0.9354261324521549.\u001b[0m\n",
      "\u001b[32m[I 2022-05-03 22:57:39,146]\u001b[0m Trial 72 finished with value: 0.9354261324521549 and parameters: {'n_estimators': 150, 'criterion': 'entropy', 'min_samples_split': 3, 'min_samples_leaf': 1, 'max_depth': 7, 'max_features': 'auto'}. Best is trial 47 with value: 0.9354261324521549.\u001b[0m\n",
      "\u001b[32m[I 2022-05-03 22:57:39,843]\u001b[0m Trial 73 finished with value: 0.9354261324521549 and parameters: {'n_estimators': 150, 'criterion': 'entropy', 'min_samples_split': 3, 'min_samples_leaf': 1, 'max_depth': 7, 'max_features': 'auto'}. Best is trial 47 with value: 0.9354261324521549.\u001b[0m\n",
      "\u001b[32m[I 2022-05-03 22:57:40,514]\u001b[0m Trial 74 finished with value: 0.9354261324521549 and parameters: {'n_estimators': 150, 'criterion': 'entropy', 'min_samples_split': 3, 'min_samples_leaf': 1, 'max_depth': 7, 'max_features': 'auto'}. Best is trial 47 with value: 0.9354261324521549.\u001b[0m\n",
      "\u001b[32m[I 2022-05-03 22:57:41,196]\u001b[0m Trial 75 finished with value: 0.9354261324521549 and parameters: {'n_estimators': 150, 'criterion': 'entropy', 'min_samples_split': 3, 'min_samples_leaf': 1, 'max_depth': 7, 'max_features': 'auto'}. Best is trial 47 with value: 0.9354261324521549.\u001b[0m\n",
      "\u001b[32m[I 2022-05-03 22:57:41,825]\u001b[0m Trial 76 finished with value: 0.9272614622057 and parameters: {'n_estimators': 150, 'criterion': 'entropy', 'min_samples_split': 3, 'min_samples_leaf': 2, 'max_depth': 7, 'max_features': 'auto'}. Best is trial 47 with value: 0.9354261324521549.\u001b[0m\n",
      "\u001b[32m[I 2022-05-03 22:57:42,478]\u001b[0m Trial 77 finished with value: 0.9354261324521549 and parameters: {'n_estimators': 150, 'criterion': 'entropy', 'min_samples_split': 3, 'min_samples_leaf': 1, 'max_depth': 7, 'max_features': 'auto'}. Best is trial 47 with value: 0.9354261324521549.\u001b[0m\n",
      "\u001b[32m[I 2022-05-03 22:57:43,067]\u001b[0m Trial 78 finished with value: 0.9272614622057 and parameters: {'n_estimators': 150, 'criterion': 'entropy', 'min_samples_split': 3, 'min_samples_leaf': 2, 'max_depth': 7, 'max_features': 'auto'}. Best is trial 47 with value: 0.9354261324521549.\u001b[0m\n",
      "\u001b[32m[I 2022-05-03 22:57:43,770]\u001b[0m Trial 79 finished with value: 0.9317114140162467 and parameters: {'n_estimators': 150, 'criterion': 'entropy', 'min_samples_split': 4, 'min_samples_leaf': 1, 'max_depth': 7, 'max_features': 'auto'}. Best is trial 47 with value: 0.9354261324521549.\u001b[0m\n",
      "\u001b[32m[I 2022-05-03 22:57:44,316]\u001b[0m Trial 80 finished with value: 0.9176042957455598 and parameters: {'n_estimators': 150, 'criterion': 'entropy', 'min_samples_split': 3, 'min_samples_leaf': 1, 'max_depth': 6, 'max_features': 'auto'}. Best is trial 47 with value: 0.9354261324521549.\u001b[0m\n",
      "\u001b[32m[I 2022-05-03 22:57:44,895]\u001b[0m Trial 81 finished with value: 0.9354261324521549 and parameters: {'n_estimators': 150, 'criterion': 'entropy', 'min_samples_split': 3, 'min_samples_leaf': 1, 'max_depth': 7, 'max_features': 'auto'}. Best is trial 47 with value: 0.9354261324521549.\u001b[0m\n",
      "\u001b[32m[I 2022-05-03 22:57:45,493]\u001b[0m Trial 82 finished with value: 0.9354261324521549 and parameters: {'n_estimators': 150, 'criterion': 'entropy', 'min_samples_split': 3, 'min_samples_leaf': 1, 'max_depth': 7, 'max_features': 'auto'}. Best is trial 47 with value: 0.9354261324521549.\u001b[0m\n",
      "\u001b[32m[I 2022-05-03 22:57:46,057]\u001b[0m Trial 83 finished with value: 0.9354261324521549 and parameters: {'n_estimators': 150, 'criterion': 'entropy', 'min_samples_split': 3, 'min_samples_leaf': 1, 'max_depth': 7, 'max_features': 'auto'}. Best is trial 47 with value: 0.9354261324521549.\u001b[0m\n",
      "\u001b[32m[I 2022-05-03 22:57:46,610]\u001b[0m Trial 84 finished with value: 0.9354261324521549 and parameters: {'n_estimators': 150, 'criterion': 'entropy', 'min_samples_split': 3, 'min_samples_leaf': 1, 'max_depth': 7, 'max_features': 'auto'}. Best is trial 47 with value: 0.9354261324521549.\u001b[0m\n",
      "\u001b[32m[I 2022-05-03 22:57:47,194]\u001b[0m Trial 85 finished with value: 0.9354261324521549 and parameters: {'n_estimators': 150, 'criterion': 'entropy', 'min_samples_split': 3, 'min_samples_leaf': 1, 'max_depth': 7, 'max_features': 'auto'}. Best is trial 47 with value: 0.9354261324521549.\u001b[0m\n",
      "\u001b[32m[I 2022-05-03 22:57:47,777]\u001b[0m Trial 86 finished with value: 0.9220597549222085 and parameters: {'n_estimators': 150, 'criterion': 'entropy', 'min_samples_split': 3, 'min_samples_leaf': 1, 'max_depth': 7, 'max_features': 'log2'}. Best is trial 47 with value: 0.9354261324521549.\u001b[0m\n"
     ]
    },
    {
     "name": "stderr",
     "output_type": "stream",
     "text": [
      "\u001b[32m[I 2022-05-03 22:57:48,353]\u001b[0m Trial 87 finished with value: 0.9354261324521549 and parameters: {'n_estimators': 150, 'criterion': 'entropy', 'min_samples_split': 3, 'min_samples_leaf': 1, 'max_depth': 7, 'max_features': 'auto'}. Best is trial 47 with value: 0.9354261324521549.\u001b[0m\n",
      "\u001b[32m[I 2022-05-03 22:57:48,813]\u001b[0m Trial 88 finished with value: 0.9294864381109734 and parameters: {'n_estimators': 150, 'criterion': 'gini', 'min_samples_split': 3, 'min_samples_leaf': 1, 'max_depth': 7, 'max_features': 'auto'}. Best is trial 47 with value: 0.9354261324521549.\u001b[0m\n",
      "\u001b[32m[I 2022-05-03 22:57:49,378]\u001b[0m Trial 89 finished with value: 0.9354261324521549 and parameters: {'n_estimators': 150, 'criterion': 'entropy', 'min_samples_split': 3, 'min_samples_leaf': 1, 'max_depth': 7, 'max_features': 'auto'}. Best is trial 47 with value: 0.9354261324521549.\u001b[0m\n",
      "\u001b[32m[I 2022-05-03 22:57:49,928]\u001b[0m Trial 90 finished with value: 0.9272614622057 and parameters: {'n_estimators': 150, 'criterion': 'entropy', 'min_samples_split': 3, 'min_samples_leaf': 2, 'max_depth': 7, 'max_features': 'auto'}. Best is trial 47 with value: 0.9354261324521549.\u001b[0m\n",
      "\u001b[32m[I 2022-05-03 22:57:50,511]\u001b[0m Trial 91 finished with value: 0.9354261324521549 and parameters: {'n_estimators': 150, 'criterion': 'entropy', 'min_samples_split': 3, 'min_samples_leaf': 1, 'max_depth': 7, 'max_features': 'auto'}. Best is trial 47 with value: 0.9354261324521549.\u001b[0m\n",
      "\u001b[32m[I 2022-05-03 22:57:51,110]\u001b[0m Trial 92 finished with value: 0.9354261324521549 and parameters: {'n_estimators': 150, 'criterion': 'entropy', 'min_samples_split': 3, 'min_samples_leaf': 1, 'max_depth': 7, 'max_features': 'auto'}. Best is trial 47 with value: 0.9354261324521549.\u001b[0m\n",
      "\u001b[32m[I 2022-05-03 22:57:51,703]\u001b[0m Trial 93 finished with value: 0.9354261324521549 and parameters: {'n_estimators': 150, 'criterion': 'entropy', 'min_samples_split': 3, 'min_samples_leaf': 1, 'max_depth': 7, 'max_features': 'auto'}. Best is trial 47 with value: 0.9354261324521549.\u001b[0m\n",
      "\u001b[32m[I 2022-05-03 22:57:52,250]\u001b[0m Trial 94 finished with value: 0.9354261324521549 and parameters: {'n_estimators': 150, 'criterion': 'entropy', 'min_samples_split': 3, 'min_samples_leaf': 1, 'max_depth': 7, 'max_features': 'auto'}. Best is trial 47 with value: 0.9354261324521549.\u001b[0m\n",
      "\u001b[32m[I 2022-05-03 22:57:52,802]\u001b[0m Trial 95 finished with value: 0.9354261324521549 and parameters: {'n_estimators': 150, 'criterion': 'entropy', 'min_samples_split': 3, 'min_samples_leaf': 1, 'max_depth': 7, 'max_features': 'sqrt'}. Best is trial 47 with value: 0.9354261324521549.\u001b[0m\n",
      "\u001b[32m[I 2022-05-03 22:57:53,445]\u001b[0m Trial 96 finished with value: 0.9354261324521549 and parameters: {'n_estimators': 150, 'criterion': 'entropy', 'min_samples_split': 3, 'min_samples_leaf': 1, 'max_depth': 7, 'max_features': 'auto'}. Best is trial 47 with value: 0.9354261324521549.\u001b[0m\n",
      "\u001b[32m[I 2022-05-03 22:57:54,075]\u001b[0m Trial 97 finished with value: 0.9354261324521549 and parameters: {'n_estimators': 150, 'criterion': 'entropy', 'min_samples_split': 3, 'min_samples_leaf': 1, 'max_depth': 7, 'max_features': 'auto'}. Best is trial 47 with value: 0.9354261324521549.\u001b[0m\n",
      "\u001b[32m[I 2022-05-03 22:57:54,731]\u001b[0m Trial 98 finished with value: 0.9354261324521549 and parameters: {'n_estimators': 150, 'criterion': 'entropy', 'min_samples_split': 3, 'min_samples_leaf': 1, 'max_depth': 7, 'max_features': 'auto'}. Best is trial 47 with value: 0.9354261324521549.\u001b[0m\n",
      "\u001b[32m[I 2022-05-03 22:57:55,398]\u001b[0m Trial 99 finished with value: 0.9079498829684702 and parameters: {'n_estimators': 150, 'criterion': 'entropy', 'min_samples_split': 3, 'min_samples_leaf': 1, 'max_depth': 5, 'max_features': 'auto'}. Best is trial 47 with value: 0.9354261324521549.\u001b[0m\n"
     ]
    }
   ],
   "source": [
    "import optuna \n",
    "from optuna.samplers import TPESampler\n",
    "from sklearn.model_selection import cross_val_score\n",
    "\n",
    "def objective(trial):\n",
    "    \"\"\"return the f1-score\"\"\"\n",
    "\n",
    "    # search space\n",
    "    n_estimators =  trial.suggest_int('n_estimators', low=100, high=200, step=50)\n",
    "    criterion = trial.suggest_categorical('criterion', ['gini', 'entropy'])\n",
    "    min_samples_split = trial.suggest_int('min_samples_split', low=2, high=4, step=1)\n",
    "    min_samples_leaf = trial.suggest_int('min_samples_leaf', low=1, high=5, step=1)\n",
    "    max_depth = trial.suggest_int('max_depth', low=5, high=7, step=1)\n",
    "    max_features = trial.suggest_categorical('max_features', ['auto', 'sqrt','log2'])\n",
    "\n",
    "    # random forest classifier object\n",
    "    rfc = RandomForestClassifier(n_estimators=n_estimators, \n",
    "                                                  criterion=criterion,\n",
    "                                                  min_samples_split=min_samples_split,\n",
    "                                                  min_samples_leaf=min_samples_leaf,\n",
    "                                                  max_depth=max_depth,\n",
    "                                                  max_features=max_features,\n",
    "                                                  random_state=42)\n",
    "    score =  cross_val_score(estimator=rfc, \n",
    "                             X=X_train, \n",
    "                             y=y_train, \n",
    "                             scoring='f1_micro',\n",
    "                             cv=5,\n",
    "                             n_jobs=-1).mean()\n",
    "    \n",
    "    return score\n",
    "\n",
    "# create a study (aim to maximize score)\n",
    "study = optuna.create_study(sampler=TPESampler(), direction='maximize')\n",
    "\n",
    "# perform hyperparamter tuning (while timing the process)\n",
    "time_start = time.time()\n",
    "study.optimize(objective, n_trials=100)\n",
    "time_bayesian = time.time() - time_start\n",
    "\n",
    "# store result in a data frame \n",
    "values_bayesian = [100, study.best_trial.number, study.best_trial.value, time_bayesian]\n",
    "results_bayesian = pd.DataFrame([values_bayesian], columns = columns)"
   ]
  },
  {
   "cell_type": "markdown",
   "id": "e85d4893",
   "metadata": {},
   "source": [
    "### Comparing the 3 Methods"
   ]
  },
  {
   "cell_type": "code",
   "execution_count": 17,
   "id": "c698abef",
   "metadata": {},
   "outputs": [
    {
     "data": {
      "text/html": [
       "<div>\n",
       "<style scoped>\n",
       "    .dataframe tbody tr th:only-of-type {\n",
       "        vertical-align: middle;\n",
       "    }\n",
       "\n",
       "    .dataframe tbody tr th {\n",
       "        vertical-align: top;\n",
       "    }\n",
       "\n",
       "    .dataframe thead th {\n",
       "        text-align: right;\n",
       "    }\n",
       "</style>\n",
       "<table border=\"1\" class=\"dataframe\">\n",
       "  <thead>\n",
       "    <tr style=\"text-align: right;\">\n",
       "      <th></th>\n",
       "      <th>Number of iterations</th>\n",
       "      <th>Iteration Number of Optimal Hyperparamters</th>\n",
       "      <th>Score</th>\n",
       "      <th>Time Elapsed (s)</th>\n",
       "    </tr>\n",
       "  </thead>\n",
       "  <tbody>\n",
       "    <tr>\n",
       "      <th>Grid Search</th>\n",
       "      <td>810</td>\n",
       "      <td>680</td>\n",
       "      <td>0.935426</td>\n",
       "      <td>265.657518</td>\n",
       "    </tr>\n",
       "    <tr>\n",
       "      <th>Random Search</th>\n",
       "      <td>100</td>\n",
       "      <td>25</td>\n",
       "      <td>0.934685</td>\n",
       "      <td>31.886001</td>\n",
       "    </tr>\n",
       "    <tr>\n",
       "      <th>Bayesian Optimization</th>\n",
       "      <td>100</td>\n",
       "      <td>47</td>\n",
       "      <td>0.935426</td>\n",
       "      <td>64.596206</td>\n",
       "    </tr>\n",
       "  </tbody>\n",
       "</table>\n",
       "</div>"
      ],
      "text/plain": [
       "                       Number of iterations  \\\n",
       "Grid Search                             810   \n",
       "Random Search                           100   \n",
       "Bayesian Optimization                   100   \n",
       "\n",
       "                       Iteration Number of Optimal Hyperparamters     Score  \\\n",
       "Grid Search                                                   680  0.935426   \n",
       "Random Search                                                  25  0.934685   \n",
       "Bayesian Optimization                                          47  0.935426   \n",
       "\n",
       "                       Time Elapsed (s)  \n",
       "Grid Search                  265.657518  \n",
       "Random Search                 31.886001  \n",
       "Bayesian Optimization         64.596206  "
      ]
     },
     "execution_count": 17,
     "metadata": {},
     "output_type": "execute_result"
    }
   ],
   "source": [
    "# store all results in a single data frame\n",
    "df = results_grid.append(results_random).append(results_bayesian)\n",
    "df.index = ['Grid Search', 'Random Search', 'Bayesian Optimization']\n",
    "df"
   ]
  },
  {
   "cell_type": "code",
   "execution_count": null,
   "id": "9dbab436",
   "metadata": {},
   "outputs": [],
   "source": []
  }
 ],
 "metadata": {
  "kernelspec": {
   "display_name": "Python 3 (ipykernel)",
   "language": "python",
   "name": "python3"
  },
  "language_info": {
   "codemirror_mode": {
    "name": "ipython",
    "version": 3
   },
   "file_extension": ".py",
   "mimetype": "text/x-python",
   "name": "python",
   "nbconvert_exporter": "python",
   "pygments_lexer": "ipython3",
   "version": "3.8.12"
  },
  "toc": {
   "base_numbering": 1,
   "nav_menu": {},
   "number_sections": true,
   "sideBar": true,
   "skip_h1_title": false,
   "title_cell": "Table of Contents",
   "title_sidebar": "Contents",
   "toc_cell": false,
   "toc_position": {},
   "toc_section_display": true,
   "toc_window_display": false
  }
 },
 "nbformat": 4,
 "nbformat_minor": 5
}
